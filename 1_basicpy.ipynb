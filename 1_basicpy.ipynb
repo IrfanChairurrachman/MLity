{
 "metadata": {
  "language_info": {
   "codemirror_mode": {
    "name": "ipython",
    "version": 3
   },
   "file_extension": ".py",
   "mimetype": "text/x-python",
   "name": "python",
   "nbconvert_exporter": "python",
   "pygments_lexer": "ipython3",
   "version": "3.6.9-final"
  },
  "orig_nbformat": 2,
  "kernelspec": {
   "name": "Python 3.6.9 64-bit",
   "display_name": "Python 3.6.9 64-bit",
   "metadata": {
    "interpreter": {
     "hash": "31f2aee4e71d21fbe5cf8b01ff0e069b9275f58929596ceb00d14d90e3e16cd6"
    }
   }
  }
 },
 "nbformat": 4,
 "nbformat_minor": 2,
 "cells": [
  {
   "source": [
    "## Panduan\n",
    "\n",
    "**1. Silahkan \"copy to drive\" di bagian atas cell sebelum mengetik dan mengeksekusi kode Anda**.\n",
    "\n",
    "![copy to drive](inventory/copytodrive.png \"menu copy to drive\")\n",
    "\n",
    "*Google Colab akan mengarahkan ke file yang telah Anda copy dengan membuka tab baru secara otomatis*\n",
    "\n",
    "\n",
    "**2. Anda dapat melihat konten/latihan apa saja pada \"Table of Content\" di sebelah kanan layar, dan juga terdapat beberapa menu lain, termasuk menu file**.\n",
    "\n",
    "![content](inventory/content.png \"Table of Content\")\n",
    "\n",
    "**3. Sebelum mengeksekusi kode, pastikan Anda telah terhubung ke *runtime* dengan cara klik \"connect/reconnect\" atau \"connect to hosted runtime\" di bagian kanan atas layar.**\n",
    "\n",
    "![connect](inventory/connect.png \"Sebelum Connect\")\n",
    "\n",
    "![connected](inventory/connected.png \"Setelah Connect\")\n",
    "\n",
    "**4. Silahkan jalankan *cell* kode yang ingin dijalankan dengan klik *runcell* di sebelah kiri kode. Angka di sebelah kiri kode setelah dijalankan menandakan urutan *cell* yang telah dijalankan**\n",
    "\n",
    "![run](inventory/runcell.png \"Sebelum dijalankan\")\n",
    "\n",
    "![executed](inventory/executed.png \"Setelah dijalankan\")\n",
    "\n",
    "\n",
    "**SELAMAT MENGERJAKAN**\n"
   ],
   "cell_type": "markdown",
   "metadata": {}
  },
  {
   "source": [
    "## Latihan Python Dasar"
   ],
   "cell_type": "markdown",
   "metadata": {}
  },
  {
   "source": [
    "### 1.Pangkat\n",
    "\n",
    "Ketik kode yang dapat menyelesaikan perpangkatan dengan mengambil 2 argumen, yaitu ```a``` sebagai basis dan ```b``` sebagai index/pangkat. sehingga jika ```a = 4```, dan ```b = 2```, artinya adalah 4 pangkat 2 = 16 (4^2). \n",
    "\n",
    "Ketik code di bawah fungsi yang telah ditentukan."
   ],
   "cell_type": "markdown",
   "metadata": {}
  },
  {
   "source": [
    "#### Pangkat 1\n",
    "\n",
    "Silahkan tulis kode sesuai permasalahan yang diberikan. untuk **Pangkat 1** Anda dapat menggunakan cara apapun.\n"
   ],
   "cell_type": "markdown",
   "metadata": {}
  },
  {
   "cell_type": "code",
   "execution_count": null,
   "metadata": {},
   "outputs": [],
   "source": [
    "def pangkat(a, b):\n",
    "    # Tulis kode di bawah fungsi ini\n",
    "    "
   ]
  },
  {
   "cell_type": "code",
   "execution_count": null,
   "metadata": {
    "tags": []
   },
   "outputs": [],
   "source": [
    "# pemeriksaan\n",
    "print(pangkat(3,2)) # = 9\n",
    "print(pangkat(-3,3)) # = -27\n",
    "print(pangkat(3,1)) # = 3\n",
    "print(pangkat(3,0)) # = 1\n",
    "print(pangkat(2, -3)) # = 0.125"
   ]
  },
  {
   "source": [
    "#### Pangkat 2\n",
    "\n",
    "Dengan aturan yang sama. Ketik kode yang melakukan perpangkatan di bawah fungsi yang telah ditentukan tanpa menggunakan operator perpangkatan dari python (**).\n",
    "\n",
    "*ingat: jangan lupakan kondisi jika index/pangkat < 0*.\n",
    " "
   ],
   "cell_type": "markdown",
   "metadata": {}
  },
  {
   "cell_type": "code",
   "execution_count": null,
   "metadata": {},
   "outputs": [],
   "source": [
    "def pangkat2(a, b):\n",
    "    # Tulis kode di bawah\n",
    "    "
   ]
  },
  {
   "cell_type": "code",
   "execution_count": null,
   "metadata": {
    "tags": []
   },
   "outputs": [],
   "source": [
    "print(pangkat2(3,2)) # = 9\n",
    "print(pangkat2(-3,3)) # = -27\n",
    "print(pangkat2(3,1)) # = 3\n",
    "print(pangkat2(3,0)) # = 1\n",
    "print(pangkat2(2, -3)) # = 0.125"
   ]
  },
  {
   "source": [
    "### 2.Mengurut List\n",
    "\n",
    "Ketiklah kode yang dapat mengurut 2 list di bawah ini di bawah fungsi yang telah di tentukan"
   ],
   "cell_type": "markdown",
   "metadata": {}
  },
  {
   "cell_type": "code",
   "execution_count": null,
   "metadata": {
    "tags": []
   },
   "outputs": [],
   "source": [
    "angka = [4, 3, 5, 2, 1, 7, 8 ,3]\n",
    "angka2 = [-2, -3, -12, 4, -24, 78, 23]"
   ]
  },
  {
   "source": [
    "hasil yang diharapkan:\n",
    "\n",
    "untuk ```angka```:\n",
    "\n",
    "```[1, 2, 3, 3, 4, 5, 7, 8]```\n",
    "\n",
    "untuk ```angka2```:\n",
    "\n",
    "```[-24, -12, -3, -2, 4, 23, 78]```\n"
   ],
   "cell_type": "markdown",
   "metadata": {}
  },
  {
   "source": [
    "#### Urut 1\n",
    "\n",
    "Silahkan menulis kode yang dapat mengurut list yang telah ditentukan. Anda dapat menggunakan cara apapun termasuk menggunakan atribut/*method* di bawah fungsi ```urut```."
   ],
   "cell_type": "markdown",
   "metadata": {}
  },
  {
   "cell_type": "code",
   "execution_count": null,
   "metadata": {},
   "outputs": [],
   "source": [
    "def urut(x):\n",
    "    # Tulis kode di bawah fungsi ini\n",
    "    "
   ]
  },
  {
   "cell_type": "code",
   "execution_count": null,
   "metadata": {},
   "outputs": [],
   "source": [
    "# Pemeriksaan\n",
    "print(urut(angka))\n",
    "print(urut(angka2))"
   ]
  },
  {
   "source": [
    "#### Urut 2\n",
    "\n",
    "Seperti aturan di atas. Silahkan mengurut list **secara iteratif tanpa menggunakan atribut/method apapun** di bawah fungsi ```urutman```.\n",
    "\n",
    "\n",
    "*Hint: terdapat beberapa algoritma pengurutan seperti selection sort, buble sort, insertion sort dll. silahkan mencarinya di google dan implementasikan dalam kode mu*."
   ],
   "cell_type": "markdown",
   "metadata": {}
  },
  {
   "cell_type": "code",
   "execution_count": null,
   "metadata": {},
   "outputs": [],
   "source": [
    "def urutman(x):\n",
    "    # Tulis kode di bawah fungsi ini"
   ]
  },
  {
   "cell_type": "code",
   "execution_count": null,
   "metadata": {},
   "outputs": [],
   "source": [
    "# Pemeriksaan\n",
    "print(urutman(angka))\n",
    "print(urutman(angka2))"
   ]
  },
  {
   "source": [
    "*main repo:* https://github.com/IrfanChairurrachman/MLity"
   ],
   "cell_type": "markdown",
   "metadata": {}
  }
 ]
}