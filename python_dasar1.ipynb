{
 "metadata": {
  "language_info": {
   "codemirror_mode": {
    "name": "ipython",
    "version": 3
   },
   "file_extension": ".py",
   "mimetype": "text/x-python",
   "name": "python",
   "nbconvert_exporter": "python",
   "pygments_lexer": "ipython3",
   "version": "3.6.9-final"
  },
  "orig_nbformat": 2,
  "kernelspec": {
   "name": "python_defaultSpec_1600948605178",
   "display_name": "Python 3.6.9 64-bit"
  }
 },
 "nbformat": 4,
 "nbformat_minor": 2,
 "cells": [
  {
   "source": [
    "## Latihan Python Dasar\n",
    "\n",
    "*note: silahkan \"copy to drive\" sebelum mengetik dan mengeksuki kode Anda*"
   ],
   "cell_type": "markdown",
   "metadata": {}
  },
  {
   "source": [
    "### 1.Pangkat\n",
    "\n",
    "**Pangkat 1**\n",
    "\n",
    "Ketik kode yang dapat menyelesaikan perpangkatan dengan mengambil 2 argumen, yaitu ```a``` sebagai basis dan ```b``` sebagai pangkat dengan b >= 0 | b bilangan bulat. sehingga jika ```a = 4```, dan ```b = 2```, artinya adalah 4 pangkat 2 = 16 (4^2). \n",
    "Ketik code di bawah komentar ```# Ketik kode di bawah fungsi ini```."
   ],
   "cell_type": "markdown",
   "metadata": {}
  },
  {
   "cell_type": "code",
   "execution_count": null,
   "metadata": {},
   "outputs": [],
   "source": [
    "def pangkat(a, b):\n",
    "    # Tulis kode di bawah fungsi ini\n",
    "    "
   ]
  },
  {
   "cell_type": "code",
   "execution_count": null,
   "metadata": {
    "tags": []
   },
   "outputs": [],
   "source": [
    "# pemeriksaan\n",
    "print(pangkat(3,2)) # = 9\n",
    "print(pangkat(-3,3)) # = -27\n",
    "print(pangkat(3,1)) # = 3\n",
    "print(pangkat(3,0)) # = 1"
   ]
  },
  {
   "source": [
    "**Pangkat 2**\n",
    "\n",
    "Dengan aturan yang sama seperti **Pangkat 1**. Ketik kode yang melakukan perpangkatan di bawah fungsi yang telah ditentukan tanpa menggunakan operator perpangkatan dari python (**)\n",
    "\n",
    "*ingat: untuk saat ini gapapa hanya b >= 0. \n",
    " "
   ],
   "cell_type": "markdown",
   "metadata": {}
  },
  {
   "cell_type": "code",
   "execution_count": null,
   "metadata": {},
   "outputs": [],
   "source": [
    "def pangkat2(a, b):\n",
    "    # Tulis kode di bawah\n",
    "    "
   ]
  },
  {
   "cell_type": "code",
   "execution_count": null,
   "metadata": {
    "tags": []
   },
   "outputs": [],
   "source": [
    "print(pangkat2(3,2)) # = 9\n",
    "print(pangkat2(-3,3)) # = -27\n",
    "print(pangkat2(3,1)) # = 3\n",
    "print(pangkat2(3,0)) # = 1"
   ]
  },
  {
   "cell_type": "code",
   "execution_count": null,
   "metadata": {},
   "outputs": [],
   "source": []
  }
 ]
}