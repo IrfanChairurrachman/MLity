{
 "metadata": {
  "language_info": {
   "codemirror_mode": {
    "name": "ipython",
    "version": 3
   },
   "file_extension": ".py",
   "mimetype": "text/x-python",
   "name": "python",
   "nbconvert_exporter": "python",
   "pygments_lexer": "ipython3",
   "version": "3.6.9-final"
  },
  "orig_nbformat": 2,
  "kernelspec": {
   "name": "Python 3.6.9 64-bit",
   "display_name": "Python 3.6.9 64-bit",
   "metadata": {
    "interpreter": {
     "hash": "31f2aee4e71d21fbe5cf8b01ff0e069b9275f58929596ceb00d14d90e3e16cd6"
    }
   }
  }
 },
 "nbformat": 4,
 "nbformat_minor": 2,
 "cells": [
  {
   "source": [
    "<a href=\"https://colab.research.google.com/github/IrfanChairurrachman/MLity/blob/master/1_basicpy.ipynb\" target=\"_parent\"> <img src=\"https://colab.research.google.com/assets/colab-badge.svg\" alt=\"Open In Colab\"/></a>"
   ],
   "cell_type": "markdown",
   "metadata": {}
  },
  {
   "source": [
    "## Panduan\n",
    "\n",
    "*note:*\n",
    "\n",
    "*cell : blok kode/text*\n",
    "\n",
    "*runtime: periode program berjalan. Pada Colab ini, maksudnya adalah awal ketika program terhubung ke server agar mendapatkan _resource_ (connect) hingga selesai terhubung (disconnect)*\n",
    "\n",
    "**1. Silahkan \"copy to drive\" di bagian atas cell sebelum mengetik dan mengeksekusi kode Anda**.\n",
    "\n",
    "![copy to drive](inventory/copytodrive.png \"menu copy to drive\")\n",
    "\n",
    "*Google Colab akan mengarahkan ke file yang telah Anda copy dengan membuka tab baru secara otomatis*\n",
    "\n",
    "\n",
    "**2. Anda dapat melihat konten/latihan apa saja pada \"Table of Content\" di sebelah kanan layar, dan juga terdapat beberapa menu lain, termasuk menu file**.\n",
    "\n",
    "![content](inventory/content.png \"Table of Content\")\n",
    "\n",
    "**3. Sebelum mengeksekusi kode, pastikan Anda telah terhubung ke *runtime* dengan cara klik \"connect/reconnect\" atau \"connect to hosted runtime\" di bagian kanan atas layar.**\n",
    "\n",
    "![connect](inventory/connect.png \"Sebelum Connect\")\n",
    "\n",
    "![connected](inventory/connected.png \"Setelah Connect\")\n",
    "\n",
    "**4. Silahkan jalankan *cell* kode yang ingin dijalankan dengan klik *runcell* di sebelah kiri kode. Angka di sebelah kiri kode setelah dijalankan menandakan urutan *cell* yang telah dijalankan**\n",
    "\n",
    "![run](inventory/runcell.png \"Sebelum dijalankan\")\n",
    "\n",
    "![executed](inventory/executed.png \"Setelah dijalankan\")\n",
    "\n",
    "\n",
    "**SELAMAT MENGERJAKAN**\n"
   ],
   "cell_type": "markdown",
   "metadata": {}
  },
  {
   "source": [
    "## Latihan Python Dasar"
   ],
   "cell_type": "markdown",
   "metadata": {}
  },
  {
   "source": [
    "### 1.Pangkat\n",
    "\n",
    "Ketik kode yang dapat menyelesaikan perpangkatan dengan mengambil 2 argumen, yaitu ```a``` sebagai basis dan ```b``` sebagai index/pangkat. sehingga jika ```a = 4```, dan ```b = 2```, artinya adalah 4 pangkat 2 = 16 (4^2). \n",
    "\n",
    "Ketik code di bawah fungsi yang telah ditentukan."
   ],
   "cell_type": "markdown",
   "metadata": {}
  },
  {
   "source": [
    "#### Pangkat 1\n",
    "\n",
    "Silahkan tulis kode sesuai permasalahan yang diberikan. untuk **Pangkat 1** Anda dapat menggunakan cara apapun.\n"
   ],
   "cell_type": "markdown",
   "metadata": {}
  },
  {
   "cell_type": "code",
   "execution_count": null,
   "metadata": {},
   "outputs": [],
   "source": [
    "def pangkat(a, b):\n",
    "    # Tulis kode di bawah fungsi ini\n",
    "    "
   ]
  },
  {
   "cell_type": "code",
   "execution_count": null,
   "metadata": {
    "tags": []
   },
   "outputs": [],
   "source": [
    "# pemeriksaan\n",
    "print(pangkat(3,2)) # = 9\n",
    "print(pangkat(-3,3)) # = -27\n",
    "print(pangkat(3,1)) # = 3\n",
    "print(pangkat(3,0)) # = 1\n",
    "print(pangkat(2, -3)) # = 0.125"
   ]
  },
  {
   "source": [
    "#### Pangkat 2\n",
    "\n",
    "Dengan aturan yang sama. Ketik kode yang melakukan perpangkatan di bawah fungsi yang telah ditentukan **tanpa menggunakan operator perpangkatan dari python (**) dan module tambahan**.\n",
    "\n",
    "*ingat: jangan lupakan kondisi jika index/pangkat < 0*.\n",
    " "
   ],
   "cell_type": "markdown",
   "metadata": {}
  },
  {
   "cell_type": "code",
   "execution_count": null,
   "metadata": {},
   "outputs": [],
   "source": [
    "def pangkat2(a, b):\n",
    "    # Tulis kode di bawah\n",
    "    "
   ]
  },
  {
   "cell_type": "code",
   "execution_count": null,
   "metadata": {
    "tags": []
   },
   "outputs": [],
   "source": [
    "print(pangkat2(3,2)) # = 9\n",
    "print(pangkat2(-3,3)) # = -27\n",
    "print(pangkat2(3,1)) # = 3\n",
    "print(pangkat2(3,0)) # = 1\n",
    "print(pangkat2(2, -3)) # = 0.125"
   ]
  },
  {
   "source": [
    "### 2.Mengurut List\n",
    "\n",
    "Ketiklah kode yang dapat mengurut 2 list di bawah ini di bawah fungsi yang telah di tentukan"
   ],
   "cell_type": "markdown",
   "metadata": {}
  },
  {
   "cell_type": "code",
   "execution_count": null,
   "metadata": {
    "tags": []
   },
   "outputs": [],
   "source": [
    "angka = [4, 3, 5, 2, 1, 7, 8 ,3]\n",
    "angka2 = [-2, -3, -12, 4, -24, 78, 23]"
   ]
  },
  {
   "source": [
    "hasil yang diharapkan:\n",
    "\n",
    "untuk ```angka```:\n",
    "\n",
    "```[1, 2, 3, 3, 4, 5, 7, 8]```\n",
    "\n",
    "untuk ```angka2```:\n",
    "\n",
    "```[-24, -12, -3, -2, 4, 23, 78]```\n"
   ],
   "cell_type": "markdown",
   "metadata": {}
  },
  {
   "source": [
    "#### Urut 1\n",
    "\n",
    "Silahkan menulis kode yang dapat mengurut list yang telah ditentukan. Anda dapat menggunakan cara apapun termasuk menggunakan atribut/*method* di bawah fungsi ```urut```."
   ],
   "cell_type": "markdown",
   "metadata": {}
  },
  {
   "cell_type": "code",
   "execution_count": null,
   "metadata": {},
   "outputs": [],
   "source": [
    "def urut(x):\n",
    "    # Tulis kode di bawah fungsi ini\n",
    "    "
   ]
  },
  {
   "cell_type": "code",
   "execution_count": null,
   "metadata": {},
   "outputs": [],
   "source": [
    "# Pemeriksaan\n",
    "print(urut(angka))\n",
    "print(urut(angka2))"
   ]
  },
  {
   "source": [
    "#### Urut 2\n",
    "\n",
    "Seperti aturan di atas. Silahkan mengurut list **secara iteratif tanpa menggunakan atribut/method apapun dan module tambahan** di bawah fungsi ```urutman```.\n",
    "\n",
    "\n",
    "*Hint: terdapat beberapa algoritma pengurutan seperti selection sort, buble sort, insertion sort dll. silahkan mencarinya di google dan implementasikan dalam kode mu*."
   ],
   "cell_type": "markdown",
   "metadata": {}
  },
  {
   "cell_type": "code",
   "execution_count": null,
   "metadata": {},
   "outputs": [],
   "source": [
    "def urutman(x):\n",
    "    # Tulis kode di bawah fungsi ini"
   ]
  },
  {
   "cell_type": "code",
   "execution_count": null,
   "metadata": {},
   "outputs": [],
   "source": [
    "# Pemeriksaan\n",
    "print(urutman(angka))\n",
    "print(urutman(angka2))"
   ]
  },
  {
   "source": [
    "### 3.Caesar Enkriptor"
   ],
   "cell_type": "markdown",
   "metadata": {}
  },
  {
   "source": [
    "#### Latar Belakang\n",
    "Dulu, Julius Caesar sering melakukan enkripsi terhadap pesan-pesan yang ia kirimkan dengan cara melangkahi beberapa huruf untuk mendapatkan huruf tertentu. Misalnya, A menjadi B, B menjadi C, C menjadi D, begitu seterusnya sampai Z berulang menjadi A. Sehingga, jika dia melangkahi 1 huruf dan ingin menulis \"HELLO\", maka dia akan menulis \"IFMMP\".\n",
    "\n",
    "Rahasia dari metode ini adalah memiliki key berupa angka yang mengisyaratkan berapa kali huruf harus dilangkahi. misalnya jika key = 2, maka A menjadi C, dan key = 4, maka A menjadi E. dan begitu seterusnya.\n",
    "Teks yang belum dienkripsi biasanya disebut *plaintext* dan teks yang dienkripsi disebut *ciphertext*\n",
    "\n",
    "![example](inventory/3docs1.png \"Contoh Enkripsi Caesar\")\n",
    "\n",
    "atau secara rumus, dapat direpresentasikan sebagai:\n",
    "```\n",
    "c = (p + k) % 26\n",
    "```\n",
    "\n",
    "dimana:\n",
    "\n",
    "`p` = huruf ke sekian dalam bilangan alfabet (plaintext)\n",
    "\n",
    "`k` = key/kunci, berapa kali huruf harus dilangkahi\n",
    "\n",
    "`c` = huruf ke sekian dalam bilangan alfabet (ciphertext)\n",
    "\n",
    "`% 26` = sisa bagi dengan 26 (karena alfabet ada 26 huruf), ingat operator modulo (%)\n",
    "\n",
    "Mari menulis program yang outputnya adalah chipertext inputnya adalah key beserta plaintextnya.\n",
    "\n",
    "Bagaimana caranya?\n",
    "\n",
    "Setiap huruf/simbol dalam tipe data string tersimpan secara berpisah dan berurutan, atau bisa dikatakan string hanyalah list dari kumpulan huruf/simbol. sehingga kita dapat memproses satu-satu huruf di dalam string.\n",
    "\n",
    "Karena di komputer hanya dapat memproses angka, maka setiap huruf juga hasil representasi dari angka tertentu. angka-angka yang telah ditentukan untuk merepresentasikan simbol-simbol termasuk huruf disebut ASCII (American Standard Code for Information Interchange). Sebagai contoh, huruf A besar di komputer memiliki huruf ASCII 65, B = 66, C = 67, dan a kecil memiliki huruf ASCII 97, b kecil 98 dst.\n",
    "\n",
    "contoh kode pada ptyhon untuk mendapatkan nilai ASCII suatu nilai dan merubah ASCII ke simbol tertentu."
   ],
   "cell_type": "markdown",
   "metadata": {}
  },
  {
   "cell_type": "code",
   "execution_count": null,
   "metadata": {
    "tags": []
   },
   "outputs": [],
   "source": [
    "text = \"abxz ABXZ\" # Teks\n",
    "\n",
    "for x in text:\n",
    "    print(\"%c\" %x, end=' ')\n",
    "    print(\"%i\" %ord(x), end=' ') #fungsi ord() untuk merubah simbol ke ASCII\n",
    "    print(\"%c\" %chr(ord(x) + 1)) #fungsi chr() untuk merubah ASCII ke simbol\n",
    "\n",
    "print(\"\\n\")\n",
    "# Mengambil masing-masing simbol/huruf pada string.\n",
    "for x in range(len(text)):\n",
    "    print(\"%c\" %text[x], end=' ')\n",
    "    print(\"%i\" %ord(text[x]))"
   ]
  },
  {
   "source": [
    "Pada perulangan pertama, jika masing-masing ASCII pada teks ditambah 1. maka a (97) berubah menjadi b(98) begitupun dengan z (122) akan berubah menjadi { (123), dan Z (90) berubah menjadi [ (91)."
   ],
   "cell_type": "markdown",
   "metadata": {}
  },
  {
   "source": [
    "#### Ketentuan\n",
    "\n",
    "Anda diharapkan dapat menulis kode yang memiliki ketentuan:\n",
    "\n",
    "1. Menerima input key dan plaintext.\n",
    "2. Mengeluarkan output chipertext berdasarkan input.\n",
    "3. Hanya mengenkripsi huruf. Selain itu, tetap di print seperti plaintext, termasuk spasi, koma, titik, dsb.\n",
    "4. Huruf kecil menjadi huruf kecil. dan huruf besar menjadi huruf besar.\n",
    "5. Dapat menerima inputan key lebih dari 26, jadi misalnya `key: 27`, maka A (65) akan menjadi B (66) bukan justru menjadi [ (91) walaupun [ (91) sejauh 27 langkah dari A. Begitupun Z (90) dengan `key = 1` seharusnya menjadi A (65), bukan [ (91). Jadi, hanya berulang dari A-Z. \n",
    "\n",
    "![caesar](inventory/3docs2.png \"Caesar\")\n",
    "\n",
    "*hint: implementasikan rumusnya, dan ingat operator modulo\n",
    "\n",
    "6. Menerima input key berupa integer. jika masukan bukan integer, maka program akan terus meminta inputan sampai masukan berupa integer.\n",
    "\n",
    "*hint: Anda dapat menerapkan Error Handling dengan `try` dan `except` pada python. atau fungsi `isdigit(x)` yang dapat memeriksa apakah x (berupa string) berisi digit atau bukan sebelum dikonversi menjadi integer. Jika digit semua, akan mengembalikan nilai True, dan False sebaliknya.*\n",
    "\n",
    "7. **Tidak menggunakan module python tambahan**\n",
    "\n",
    "\n",
    "Kode Anda diharapkan berjalan dengan perilaku seperti di bawah ini:\n",
    "\n",
    "![3out1](inventory/3out1.png)\n",
    "\n",
    "![3out2](inventory/3out2.png)\n",
    "\n",
    "![3out3](inventory/3out3.png)\n"
   ],
   "cell_type": "markdown",
   "metadata": {}
  },
  {
   "source": [
    "#### Penjelasan Kode\n",
    "\n",
    "Terdapat 3 cell kode, yaitu:\n",
    "\n",
    "`def getint()`: fungsi untuk mengembalikan nilai input ke variabel `key` pada `# Cell Utama`. Silahkan lengkapi kode di bawah fungsi ini agar hanya menerima inputan berupa angka.\n",
    "\n",
    "`def enkriptor(text, x)`: fungsi untuk print hasil enkripsi dengan masukan `text` yaitu plaintext dan `x` adalah key. Silahkan tulis kode yang dapat mengenkripsi inputan plaintext\n",
    "\n",
    "`# Cell Utama`: Anda tidak butuh mengubah apa-apa di cell ini. Cell ini sebagai cell utama jika kedua fungsi di atasnya dapat bekerja. pastikan menjalankan fungsi-fungsi lainnya terlebih dahulu sebelum menjalankan Cell utama. (jika mau ubah template kodenya, boleh banget kok, yang penting kodenya bekerja sesuai arahan dan ketentuan)\n",
    "\n",
    "*Jika kebingungan entah karena kurang memahami latihan, atau  fungsi kode yang telah disediakan dan sebagainya, sangat diharapkan untuk mendiskusikannya di channel forum Infinity discord SC*"
   ],
   "cell_type": "markdown",
   "metadata": {}
  },
  {
   "source": [
    "#### Latihan Kode\n",
    "\n",
    "**Selamat Mengerjakan**"
   ],
   "cell_type": "markdown",
   "metadata": {}
  },
  {
   "cell_type": "code",
   "execution_count": null,
   "metadata": {},
   "outputs": [],
   "source": [
    "def getint():\n",
    "    # Lengkapi kode di bawah\n",
    "    x = int(input(\"Key: \" )) # atau x = input(\"Jumlah: \")\n",
    "\n",
    "    return x # atau return int(x)"
   ]
  },
  {
   "cell_type": "code",
   "execution_count": null,
   "metadata": {},
   "outputs": [],
   "source": [
    "def enkriptor(text, x):\n",
    "    # Tulis Kode di Bawah\n",
    "    "
   ]
  },
  {
   "cell_type": "code",
   "execution_count": null,
   "metadata": {},
   "outputs": [],
   "source": [
    "# Cell Utama  \n",
    "key = getint()\n",
    "\n",
    "teks = str(input(\"plaintext: \"))\n",
    "\n",
    "print(\"chipertext:\", end=' ')\n",
    "\n",
    "enkriptor(teks, key)\n"
   ]
  },
  {
   "source": [
    "### 4.Plurality Vote"
   ],
   "cell_type": "markdown",
   "metadata": {}
  },
  {
   "source": [
    "#### Latar Belakang\n",
    "\n",
    "Anda pasti pernah melakukan vote entah dalam memilih ketua, mau makan apa, siapa yang bayar dan sebagainya. Voting sangat banyak dilakukan dan telah berevolusi dengan berbagai bentuk dan aturan.\n",
    "\n",
    "Kali ini, Anda akan membuat program yang dapat melakukan voting dalam bentuk paling sederhana, yaitu *plurality vote*. Dalam *plurality vote*, siapa yang paling banyak dapat suara, maka dia yang ditunjuk sebagai pemenang (tidak ada aturan lain-lain seperti harus di atas 50% pemilih dsb, sangat simpel).\n",
    "\n",
    "Anda akan membuat program pemilu kecil-kecilan dengan jumlah kandidat tertentu dan pemilih yang masing-masing dapat memilih 1 kandidat. Kandidat dengan suara terbanyak, dia yang menang. Jika yang memiliki suara terbanyak lebih dari 1 kandidat, maka semua Kandidat dengan suara terbanyak dideklarasikan sebagai pemenang."
   ],
   "cell_type": "markdown",
   "metadata": {}
  },
  {
   "source": [
    "#### Ketentuan\n",
    "Anda diharapkan dapat menulis kode yang memiliki ketentuan:\n",
    "\n",
    "1. Menerima input berupa jumlah kandidat, nama kandidat, jumlah pemilih, dan pilihan masing-masing pemilih.\n",
    "2. Mengeluarkan output berupa nama Kandidat beserta hasil akhir suara dan nama pemenang.\n",
    "3. Jika pemenang lebih dari 1, semua nama pemenang di-*print*. Contoh, Jika Susi memiliki 3 suara, Anto 3 suara, dan Rudi 1 suara. Maka, Susi dan Anto dideklarasikan sebagai pemenang *(ya emang aneh gimana gitu pemenang lebih dari satu, tapi buat gini aja dulu wkwk)*\n",
    "4. Menerima input jumlah kandidat dan jumlah pemilih berupa integer. Jika bukan angka, maka program akan terus meminta hingga masukan berupa angka.\n",
    "\n",
    "*hint: sama seperti **3.Caesar Enkriptor**, Anda dapat menggunakan Error Handling berupa `try` dan `except` atau menggunakan `isdigit(x)` untuk memeriksa apakah masukan berupa angka sebelum dikonversi menjadi integer.\n",
    "\n",
    "5. **Tidak menggunakan module python tambahan**\n",
    "\n",
    "Kode Anda dapat diharapkan berjalan dengan perilaku seperti di bawah ini:\n",
    "\n",
    "![4out1](inventory/4out1.png)\n",
    "\n",
    "![4out1](inventory/4out1.png)"
   ],
   "cell_type": "markdown",
   "metadata": {}
  },
  {
   "source": [
    "#### Penjelasan Kode\n",
    "Terdapat 4 cell kode dengan 1 class, 3 fungsi dan 1 list untuk menyimpan objek dari class, sebagai berikut:\n",
    "\n",
    "`class Kandidat`: memiliki 3 atribut, 2 diantaranya adalah `nama` dan `vote` yang merepresentasikan nama serta jumlah suara setiap kandidat.\n",
    "\n",
    "`kand[]`: Adalah list untuk menampung objek dari Kandidat. untuk mengakses atribut nama kandidat pertama dari `class Kandidat`, dapat dilakukan dengan `kand[0].nama`. atau jika memakai perulangan, contoh:\n",
    "```python\n",
    "for i in kand:\n",
    "    print(i.name) # nama kandidat i\n",
    "    print(i.vote) # suara kandidat i\n",
    "\n",
    "print(Kandidat.jumlah) # jumlah seluruh Kandidat\n",
    "print(kand[0].__class__.jumlah) # jumlah seluruh Kandidat juga\n",
    "print(kand[0].jumlah) # jumlah seluruh Kandidat juga\n",
    "```\n",
    "\n",
    "`def getvalint(s, maks)`: fungsi yang mengembalikan input berupa integer, dengan parameter `s` sebagai string untuk \"Kandidat\" dan \"Pemilih\" dan `maks` sebagai maksimal jumlah Kandidat dan Pemilih. Tugas Anda untuk melengkapkan kode di bawah fungsi tersebut untuk dapat memvalidasi masukan yang hanya berupa angka (integer) dan tidak melebihi jumlah maksimal yang telah ditentukan. Jika kondisi terpenuhi, maka akan mengembalikan nilai x.\n",
    "\n",
    "`def pilih(s)`: fungsi yang mengembalikan nilai boolean, dengan parameter berupa string, yaitu masukan nama dari pemilih. Fungsi ini akan memeriksa apakah pemilih memilih Kandidat yang tersedia atau tidak. Jika iya, maka suara kandidat akan bertambah satu dan mengembalikan nilai True. Jika tidak, maka akan mengembalikan nilai False.\n",
    "\n",
    "`def hitung()`: fungsi yang akan mencari pemenang dan mem-*print* nama pemenang, baik jika pemenangnya hanya satu atau lebih.\n",
    "\n",
    "*Jika kebingungan entah karena kurang memahami latihan, atau  fungsi kode yang telah disediakan dan sebagainya, sangat diharapkan untuk mendiskusikannya di channel forum Infinity discord SC*"
   ],
   "cell_type": "markdown",
   "metadata": {}
  },
  {
   "source": [
    "#### Latihan Kode\n",
    "\n",
    "**Selamat Mengerjakan**"
   ],
   "cell_type": "markdown",
   "metadata": {}
  },
  {
   "source": [],
   "cell_type": "markdown",
   "metadata": {}
  },
  {
   "cell_type": "code",
   "execution_count": null,
   "metadata": {},
   "outputs": [],
   "source": [
    "def getvalint(s, maks):\n",
    "    # Lengkapi kode untuk fungsi ini\n",
    "    # Fungsi ini mengembalikan nilai int\n",
    "\n",
    "    x = int(input(\"Jumlah \" + s)) # atau x = input(\"Jumlah \" + s)\n",
    "\n",
    "    return x # atau return int(x)"
   ]
  },
  {
   "cell_type": "code",
   "execution_count": null,
   "metadata": {},
   "outputs": [],
   "source": [
    "def pilih(s):\n",
    "    # Lengkapi kode untuk fungsi ini\n",
    "    # Fungsi ini mengembalikan nilai boolean\n",
    "    \n",
    "    return False"
   ]
  },
  {
   "cell_type": "code",
   "execution_count": null,
   "metadata": {},
   "outputs": [],
   "source": [
    "def hitung():\n",
    "    # Lengkapi kode untuk fungsi ini\n",
    "    # Fungsi ini untuk print kandidat suara terbanyak\n",
    "    "
   ]
  },
  {
   "cell_type": "code",
   "execution_count": null,
   "metadata": {
    "tags": []
   },
   "outputs": [],
   "source": [
    "# Kelas Kandidat berisi nama dan jumlah vote\n",
    "class Kandidat:\n",
    "    jumlah = 0 # Jumlah Kandidat (mungkin butuh)\n",
    "\n",
    "    def __init__(self, nama):\n",
    "        self.nama = nama\n",
    "        self.vote = 0\n",
    "        Kandidat.jumlah += 1\n",
    "\n",
    "# Inisiasi list untuk menyimpan object dari Kandidat\n",
    "kand = []\n",
    "\n",
    "if __name__ == \"__main__\":\n",
    "\n",
    "    jml = getvalint(\"Kandidat: \", 9)\n",
    "    \n",
    "    # Memasukkan nama kandidat\n",
    "    for i in range(jml):\n",
    "        nama = input(\"Nama Kandidat: \")\n",
    "        kand.append(Kandidat(nama))\n",
    "    \n",
    "    voter = getvalint(\"Voter: \",  100)\n",
    "\n",
    "    for i in range(voter):\n",
    "        # Input untuk pemilih\n",
    "        milih = input(\"Pemilih \" + str(i + 1) + \": \")\n",
    "\n",
    "        # Periksa apakah pemilih memilih calon yang ada\n",
    "        if not pilih(milih): \n",
    "            print(\"Pilihan tidak valid\")\n",
    "    \n",
    "    # Print nama beserta jumlah voting\n",
    "    for i in kand:\n",
    "        print(i.nama, end=': ')\n",
    "        print(i.vote)\n",
    "    \n",
    "    # Print Pemenang\n",
    "    hitung()"
   ]
  },
  {
   "source": [
    "## Pemeriksaan\n",
    "\n",
    "1. Klik tombol \"Share\" di bagian kanan atas layar.\n",
    "\n",
    "![review1](inventory/review1.png \"Share\")\n",
    "\n",
    "2. Klik \"Change to anyone with the link\" (atau sejenisnya) untuk mengubah pengaturan berbagi.\n",
    "\n",
    "![review1](inventory/review2.png \"Change\")\n",
    "\n",
    "3. Ubah menjadi \"anyone with the link\" dan sebagai \"Commenter\" agar yang mengakses Colab mu lewat link dapat memberikan komentar terkait kode yang kamu kerjakan (termasuk kami). Kemudian copy link dan bagikan kepada kami lewat . . . . . . engg gatau lewat apa wkwk\n",
    "\n",
    "![review1](inventory/review3.png \"get Link\")"
   ],
   "cell_type": "markdown",
   "metadata": {}
  },
  {
   "source": [
    "*main repo:* https://github.com/IrfanChairurrachman/MLity"
   ],
   "cell_type": "markdown",
   "metadata": {}
  }
 ]
}