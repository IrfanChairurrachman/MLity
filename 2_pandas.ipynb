{
 "metadata": {
  "language_info": {
   "codemirror_mode": {
    "name": "ipython",
    "version": 3
   },
   "file_extension": ".py",
   "mimetype": "text/x-python",
   "name": "python",
   "nbconvert_exporter": "python",
   "pygments_lexer": "ipython3",
   "version": 3
  },
  "orig_nbformat": 2
 },
 "nbformat": 4,
 "nbformat_minor": 2,
 "cells": [
  {
   "source": [
    "Masih proses hehe, sabar ya"
   ],
   "cell_type": "markdown",
   "metadata": {}
  },
  {
   "source": [
    "## Panduan\n",
    "\n",
    "*note:*\n",
    "\n",
    "*cell : blok kode/text*\n",
    "\n",
    "*runtime: periode program berjalan. Pada Colab ini, maksudnya adalah awal ketika program terhubung ke server agar mendapatkan _resource_ (connect) hingga selesai terhubung (disconnect)*\n",
    "\n",
    "**1. Silahkan \"copy to drive\" di bagian atas cell sebelum mengetik dan mengeksekusi kode Anda**.\n",
    "\n",
    "![copy to drive](inventory/copytodrive.png \"menu copy to drive\")\n",
    "\n",
    "*Google Colab akan mengarahkan ke file yang telah Anda copy dengan membuka tab baru secara otomatis*\n",
    "\n",
    "\n",
    "**2. Anda dapat melihat konten/latihan apa saja pada \"Table of Content\" di sebelah kanan layar, dan juga terdapat beberapa menu lain, termasuk menu file**.\n",
    "\n",
    "![content](inventory/content.png \"Table of Content\")\n",
    "\n",
    "**3. Sebelum mengeksekusi kode, pastikan Anda telah terhubung ke *runtime* dengan cara klik \"connect/reconnect\" atau \"connect to hosted runtime\" di bagian kanan atas layar.**\n",
    "\n",
    "![connect](inventory/connect.png \"Sebelum Connect\")\n",
    "\n",
    "![connected](inventory/connected.png \"Setelah Connect\")\n",
    "\n",
    "**4. Silahkan jalankan *cell* kode yang ingin dijalankan dengan klik *runcell* di sebelah kiri kode. Angka di sebelah kiri kode setelah dijalankan menandakan urutan *cell* yang telah dijalankan**\n",
    "\n",
    "![run](inventory/runcell.png \"Sebelum dijalankan\")\n",
    "\n",
    "![executed](inventory/executed.png \"Setelah dijalankan\")\n",
    "\n",
    "\n",
    "**SELAMAT MENGERJAKAN**\n"
   ],
   "cell_type": "markdown",
   "metadata": {}
  }
 ]
}