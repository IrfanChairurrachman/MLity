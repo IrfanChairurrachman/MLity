{
 "metadata": {
  "language_info": {
   "codemirror_mode": {
    "name": "ipython",
    "version": 3
   },
   "file_extension": ".py",
   "mimetype": "text/x-python",
   "name": "python",
   "nbconvert_exporter": "python",
   "pygments_lexer": "ipython3",
   "version": "3.6.9-final"
  },
  "orig_nbformat": 2,
  "kernelspec": {
   "name": "python36964bit5999f14944bc4847bf0140fb619c42db",
   "display_name": "Python 3.6.9 64-bit"
  }
 },
 "nbformat": 4,
 "nbformat_minor": 2,
 "cells": [
  {
   "source": [
    "# Pengenalan\n",
    "\n",
    "Selamat datang di disiplin Machine Learning Infinity. Notebook ini adalah salah satu materi dasar di dalam alur belajar Machine Learning dari dasar hingga mahir. Notebook ini berisi materi dan kode yang dapat dijalankan. \n",
    "\n",
    "Notebook ini hanya sebagai pengenalan dan tidak terlalu membahas detail setiap materinya. Sehingga, sangat diharapkan kepada para pembaca untuk membaca/mempelajari sumber belajar lainnya. Beberapa referensi akan kami rekomendasikan untuk Anda dan telah kami sematkan dalam notebook ini. Jadi,selamat belajar dan jangan ragu untuk bereksperimen dengan kode mu."
   ],
   "cell_type": "markdown",
   "metadata": {}
  },
  {
   "source": [
    "# Pengenalan Python\n",
    "\n",
    "![Python](image/logo.png)\n",
    "\n",
    "## 1.Apa itu Python?\n",
    "\n",
    "Python adalah bahasa pemrograman multifungsi yang dibuat oleh Guido van Rossum dan dirilis pada tahun 1991. GvR, begitu ia biasa disebut di komunitas Python, menciptakan Python untuk menjadi interpreter yang memiliki kemampuan penanganan kesalahan (exception handling) dan mengutamakan sintaksis yang mudah dibaca serta dimengerti (readability). Didesain untuk memudahkan dalam prototyping, Python menjadi bahasa yang sangat mudah dipahami dan fleksibel. Sehingga Python sangat mudah dipahami untuk pemula.\n",
    "Python juga menjadi bahasa pemrograman yang terkenal dalam Pengembangan Machine Learning dan Data Sains. Jadi, sebelum menuju kesana, mari kita belajar bahasa Python yuk.\n",
    "\n",
    "Sebagai awalan, coba jalankan kode di bawah ini:\n"
   ],
   "cell_type": "markdown",
   "metadata": {}
  },
  {
   "cell_type": "code",
   "execution_count": null,
   "metadata": {
    "tags": []
   },
   "outputs": [],
   "source": [
    "print(\"Hello World\")"
   ]
  },
  {
   "source": [
    "Dengan kode yang simpel, Anda dapat menampilkan pesan apapun di dalam tanda ``` () ``` tanpa harus mengakhiri kode dengan ``` ; ``` seperti pada bahasa pemrograman kebanyakan\n"
   ],
   "cell_type": "markdown",
   "metadata": {}
  },
  {
   "source": [
    "## 2.Tipe Data dan Variabel\n",
    "### Apa itu Variabel dan Tipe Data?\n",
    "\n",
    "**Variabel** merupakan tempat menyimpan data, sedangkan **tipe data** adalah jenis yang yang tersimpan dalam variabel.\n",
    "\n",
    "cara membuat variabel:\n",
    "```python\n",
    "nama_variabel = <nilai variabel>\n",
    "```\n",
    "contoh:\n",
    "```python\n",
    "a = \"Ini tipe data string\"\n",
    "b = 16\n",
    "c = 16.0\n",
    "```\n",
    "\n",
    "ketika ingin mencetak nilai pada variabel di fungsi ```print()``` kita cukup mengetik nama variabel di dalam fungsi tanda kurung dalam fungsi print tersebut.\n",
    "seperti contoh di bawah ini, alih-alih menuliskan ```print(\"Hello World\")``` anda dapat menyimpan string/kalimat hello world dalam variabel yang anda inginkan kemudian mencetaknya seperti contoh di bawah ini (silahkan dijalankan dan jangan takut bereksperimen)"
   ],
   "cell_type": "markdown",
   "metadata": {}
  },
  {
   "cell_type": "code",
   "execution_count": null,
   "metadata": {
    "tags": []
   },
   "outputs": [],
   "source": [
    "a = \"Hello World\"\n",
    "print(a)"
   ]
  },
  {
   "source": [
    "**Macam-macam tipe data**\n",
    "Tipe data umumnya dibagi menjadi 3 bagian, yaitu:\n",
    "1. tipe data teks = yaitu seperti *string* dan *char*\n",
    "2. tipe data angka = yaitu seperti *int* (bilangan bulat) dan *float* bilangan desimal\n",
    "3. tipe data boolean = terdiri dari *True* dan *False*"
   ],
   "cell_type": "markdown",
   "metadata": {}
  },
  {
   "source": [
    "Lantas, bagaimana cara memeriksa tipe data suatu variabel? apakah tipe data tertentu dapat diubah menjadi tipe data lainnya?? mari coba jalankan dan pahami kode di bawah ini dan silahkan coba bereksperimen dengan mencetak variabel-variabel lainnya atau mengubah-ubah tipe datanya"
   ],
   "cell_type": "markdown",
   "metadata": {}
  },
  {
   "cell_type": "code",
   "execution_count": null,
   "metadata": {
    "tags": []
   },
   "outputs": [],
   "source": [
    "tipe_string = \"ini String\"\n",
    "string_angka = \"6\"\n",
    "tipe_int = 6\n",
    "tipe_float = 6.3\n",
    "\n",
    "print(type(tipe_string))\n",
    "print(type(string_angka))\n",
    "print(type(tipe_int))\n",
    "print(type(tipe_float))"
   ]
  },
  {
   "cell_type": "code",
   "execution_count": null,
   "metadata": {
    "tags": []
   },
   "outputs": [],
   "source": [
    "jadi_int = int(string_angka)\n",
    "jadi_float = float(string_angka)\n",
    "float_ke_int = int(tipe_float)\n",
    "int_ke_string = str(tipe_int)\n",
    "\n",
    "print(\"nilai: \", jadi_int)\n",
    "print(type(jadi_int))"
   ]
  },
  {
   "source": [
    "Materi ini hanya perkenalan, tentu saja kami berharap Anda membaca lebih lanjut mengenai Tipe data dan Variabel pada Python. berikut bacaan yang kami rekomendasikan:\n",
    "\n",
    "Video (Indonesia):\n",
    "- [Pengenalan Python](https://youtu.be/SsUF-7X3ehM)\n",
    "- [Operasi pada String](https://youtu.be/xlWN2fTyQFU)\n",
    "\n",
    "Artikel (Indonesia):\n",
    "- https://www.petanikode.com/python-variabel-dan-tipe-data/\n",
    "- https://belajarpython.com/tutorial/tipe-data-python\n",
    "- https://belajarpython.com/tutorial/variabel-python"
   ],
   "cell_type": "markdown",
   "metadata": {}
  },
  {
   "source": [
    "## Komentar dan mengambil input pada user\n",
    "### Komentar\n",
    "Pada python terdapat cara untuk menulis komentar pada script. komentar tidak akan dieksekusi oleh komputer dan hanya tampil di script agar script kita lebih mudah dipahami. cara membuat komentar dengan menambahkan ```#``` di line yang ingin dikomentari atau menekan ```ctrl``` + ```/```.\n",
    "silahkan jalankan kode berikut dan jangan takut untuk menulis kode mu sendiri"
   ],
   "cell_type": "markdown",
   "metadata": {}
  },
  {
   "cell_type": "code",
   "execution_count": null,
   "metadata": {
    "tags": []
   },
   "outputs": [],
   "source": [
    "# Contoh komentar\n",
    "# Ini adalah komentar\n",
    "print('ini akan dieksekusi')\n",
    "# print('namun ini tidak akan dieksekusi')\n",
    "print('print kedua tidak dieksekusi karena komentar') # komentar juga bisa ditulis di sini"
   ]
  },
  {
   "source": [
    "jika ingin membaca lebih lanjut mengenai komentar pada python:\n",
    "- https://belajarpython.com/tutorial/komentar-python"
   ],
   "cell_type": "markdown",
   "metadata": {}
  },
  {
   "source": [
    "### Input dan Output pada python\n",
    "\n",
    "Untuk mengambil input dari user, cukup gunakan fungsi ```input()```. Sebagai contoh, coba jalankan kode di bawah ini dan silahkan tulis kodemu sendiri"
   ],
   "cell_type": "markdown",
   "metadata": {}
  },
  {
   "cell_type": "code",
   "execution_count": null,
   "metadata": {
    "tags": []
   },
   "outputs": [],
   "source": [
    "var_nama = input(\"Nama: \")\n",
    "var_semester = input(\"Semester berapa: \")\n",
    "\n",
    "print(\"Halo\", var_nama, \"semangat menjalankan semester\", var_semester)"
   ]
  },
  {
   "source": [
    "untuk bacaan lebih lanjut mengenai Input dan Output, silahkan kunjungi:\n",
    "- https://www.petanikode.com/python-input-output/"
   ],
   "cell_type": "markdown",
   "metadata": {}
  },
  {
   "source": [
    "## Operator \n",
    "\n",
    "Operator merupakan simbol-simbol yang digunakan untuk melakukan operasi tertentu. Beberapa contoh yang sering kita gunakan yaitu operator penjumlahan (+) dan pengurangan (-). \n",
    "\n",
    "Berikut adalah beberapa jenis operator pada Python beserta penjelasannya:\n",
    "\n",
    "**1. Operator Aritmatika**\n",
    "\n",
    "![Aritmatika](image/operator1.png)\n",
    "\n"
   ],
   "cell_type": "markdown",
   "metadata": {}
  },
  {
   "cell_type": "code",
   "execution_count": null,
   "metadata": {
    "tags": []
   },
   "outputs": [],
   "source": [
    "# Contoh \n",
    "a = 30\n",
    "b = 3\n",
    "\n",
    "print('Penjumlahan =', a + b)\n",
    "print('Perkalian =', a * b)\n",
    "print('Sisa bagi =', a % b)\n",
    "print('Pembagian Bulat =', a // b)"
   ]
  },
  {
   "cell_type": "code",
   "execution_count": null,
   "metadata": {
    "tags": []
   },
   "outputs": [],
   "source": [
    "a = a + 2\n",
    "print(a)"
   ]
  },
  {
   "source": [
    "Kenapa nilai a berubah? dan kenapa kita bisa menuliskan ```a = a + 2```? bukankah itu tidak masuk akal dan tidak sesuai kaidah persamaan matematika?\n",
    "\n",
    "Deklarasi variabel pada python berbeda dengan persamaan matematika. jika di persamaan matematika kalian bisa menulis beberapa nilai di sebelah kiri, seperti:\n",
    "\n",
    "```x + 1 = 6```\n",
    "\n",
    "mari coba kita tuliskan persamaan di atas kemudian menjalankannya"
   ],
   "cell_type": "markdown",
   "metadata": {}
  },
  {
   "cell_type": "code",
   "execution_count": null,
   "metadata": {},
   "outputs": [],
   "source": [
    "x + 1 = 6\n",
    "\n",
    "print(x)"
   ]
  },
  {
   "source": [
    "Error bukan?? namun jangan panik, itu hanya error, laptopmu tidak akan meledak. cukup perbaiki kodenya sesuai aturan kemudian jalankan lagi.\n",
    "\n",
    "kenapa bisa error?\n",
    "\n",
    "Karena di python bagian sebelah kiri ```=``` hanya boleh terdiri dari nama variabel dan di sebelah kanan adalah nilai variabel tersebut. Serta, kode python dijalankan secara berurutan. sehingga kode di atas dapat dijelaskan seperti ini:\n",
    "```\n",
    "a = 30\n",
    "a = a + 2 \n",
    "```\n",
    "atau dengan kata lain\n",
    "```\n",
    "a = 30 + 2 \n",
    "```\n",
    "```a``` disebelah kanan bernilai 30 karena mengambil nilai ```a``` yang di deklarasi pada line sebelumnya\n",
    "sehingga, ```a``` di sebelah kiri memiliki nilai baru, yaitu 32"
   ],
   "cell_type": "markdown",
   "metadata": {}
  },
  {
   "source": [
    "**2. Operator Perbandingan**\n",
    "\n",
    "Digunakan untuk membandingkan nilai-nilai dengan hasil akhir ```True``` atau ```False```\n",
    "\n",
    "![Aritmatika](image/operator2.png)\n",
    "\n"
   ],
   "cell_type": "markdown",
   "metadata": {}
  },
  {
   "cell_type": "code",
   "execution_count": null,
   "metadata": {
    "tags": []
   },
   "outputs": [],
   "source": [
    "x = 5\n",
    "y = 8\n",
    "z = 5\n",
    "\n",
    "print(x == y)\n",
    "print(x == z) \n",
    "print(x >= y)\n",
    "print(x != y)\n",
    "\n",
    "# Silahkan coba sesuai keinginanmu"
   ]
  },
  {
   "source": [
    "**3. Operator Penugasan**\n",
    "\n",
    "Digunakan untuk memberikan atau memodifikasi nilai pada suatu variabel\n",
    "\n",
    "![Aritmatika](image/operator3.png)"
   ],
   "cell_type": "markdown",
   "metadata": {}
  },
  {
   "cell_type": "code",
   "execution_count": null,
   "metadata": {
    "tags": []
   },
   "outputs": [],
   "source": [
    "x = 2\n",
    "print(x)\n",
    "\n",
    "x += 3 # x = x + 3\n",
    "# x yang sebelumnya 2, ditambahkan 3 dan dimasukkan ke variabel x\n",
    "# x memiliki nilai baru\n",
    "print(x)\n",
    "\n",
    "x *= 7 # x = x * 5\n",
    "# x yang telah bernilai 5, dikali dengan 7 dan dimasukkan ke variabel x\n",
    "# x memiliki nilai baru\n",
    "print(x)"
   ]
  },
  {
   "source": [
    "Jika ingin memahami lebih lanjut mengenai Operator pada Python, silahkan kunjungi referensi di bawah ini:\n",
    "- https://belajarpython.com/tutorial/operator-python\n",
    "- https://www.petanikode.com/python-operator/"
   ],
   "cell_type": "markdown",
   "metadata": {}
  }
 ]
}